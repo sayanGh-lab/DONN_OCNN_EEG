{
 "cells": [
  {
   "cell_type": "code",
   "execution_count": 137,
   "metadata": {},
   "outputs": [],
   "source": [
    "import tensorflow as tf\n",
    "import numpy as np\n",
    "from matplotlib import pyplot as plt\n",
    "from tensorflow.keras.layers import (Conv2D, TimeDistributed, MaxPooling2D,\n",
    "                                     MaxPooling3D, AveragePooling2D, Conv2DTranspose, UpSampling2D,\n",
    "                                     Dense, Flatten, Reshape,Dropout)\n",
    "from hopf_blurred import *\n",
    "#from pulse2percept.stimuli import GratingStimulus\n",
    "import scipy.io\n",
    "\n",
    "import numpy as np\n",
    "import os"
   ]
  },
  {
   "cell_type": "code",
   "execution_count": 138,
   "metadata": {},
   "outputs": [
    {
     "name": "stdout",
     "output_type": "stream",
     "text": [
      "(414, 64, 17) raw_data (414, 64, 2) label\n"
     ]
    }
   ],
   "source": [
    "import scipy.io\n",
    "data5=scipy.io.loadmat('C:/Users/sinha/Desktop/sayan/epileptic_OCNN/sub5/model_dataset.mat')\n",
    "\n",
    "EEG_data=data5[\"EEG_main\"] # 4 channels EEG TRAINING Data\n",
    "label=data5[\"label\"]\n",
    "print(EEG_data.shape,\"raw_data\", label.shape,\"label\")"
   ]
  },
  {
   "cell_type": "code",
   "execution_count": 139,
   "metadata": {},
   "outputs": [
    {
     "name": "stdout",
     "output_type": "stream",
     "text": [
      "(414, 64, 50, 50) data_EEG\n",
      "(414, 64, 50, 50) raw_data (414, 64, 2)\n",
      "(414, 64, 50, 50, 1) raw_data1\n",
      "(331, 64, 50, 50, 1)\n",
      "(83, 64, 50, 50, 1)\n",
      "(331, 64, 2)\n",
      "(83, 64, 2)\n"
     ]
    }
   ],
   "source": [
    "\n",
    "np.random.seed(42)\n",
    "#input_dim=60\n",
    "#seq_len=35\n",
    "import scipy.io\n",
    "\n",
    "data_EEG = np.load(r'C:/Users/sinha/Desktop/sayan/epileptic_OCNN/sub5/img4_save.npy')\n",
    "print(data_EEG.shape,\"data_EEG\")\n",
    "data_label=label\n",
    "\n",
    "print(data_EEG.shape,\"raw_data\",data_label.shape)\n",
    "expanded_matrix = np.expand_dims(data_EEG, axis=-1)\n",
    "print(expanded_matrix.shape,\"raw_data1\")\n",
    "input_dim=50\n",
    "seq_len=64\n",
    "\n",
    "from sklearn.model_selection import train_test_split\n",
    "\n",
    "X_train, X_test, y_train, y_test = train_test_split(expanded_matrix, data_label, test_size=0.2, random_state=42)\n",
    "print(X_train.shape)\n",
    "print(X_test.shape)\n",
    "print(y_train.shape)\n",
    "print(y_test.shape)"
   ]
  },
  {
   "cell_type": "code",
   "execution_count": 140,
   "metadata": {},
   "outputs": [],
   "source": [
    "def ramp_accuracy(y_true, y_pred):\n",
    "    pred_win_indx = tf.math.argmax(tf.math.reduce_mean(y_pred, 1), 1)\n",
    "    grnd_win_indx = tf.math.argmax(tf.math.reduce_mean(y_true, 1), 1)\n",
    "    return tf.math.reduce_mean(tf.cast(pred_win_indx==grnd_win_indx, 'float32'))"
   ]
  },
  {
   "cell_type": "code",
   "execution_count": 141,
   "metadata": {},
   "outputs": [
    {
     "data": {
      "text/plain": [
       "(46, 42, 38, 34)"
      ]
     },
     "execution_count": 141,
     "metadata": {},
     "output_type": "execute_result"
    }
   ],
   "source": [
    "from tensorflow.keras import layers, Model\n",
    "\n",
    "def feat_pool_dim_calc(inp_dim, k_dim, pool_dim=2):\n",
    "  f_d = (inp_dim-k_dim) + 1\n",
    "  p_d = (f_d-pool_dim)//pool_dim + 1\n",
    "  return f_d, p_d\n",
    "\n",
    "k1_d = 5\n",
    "n_f1 = 5\n",
    "f1_d, p1_d = feat_pool_dim_calc(input_dim, k1_d)\n",
    "\n",
    "k2_d = 5\n",
    "n_f2 = 5\n",
    "#f2_d, p2_d = feat_pool_dim_calc(f1_d//2, k2_d)\n",
    "f2_d, p2_d = feat_pool_dim_calc(f1_d, k2_d)\n",
    "\n",
    "k3_d = 5\n",
    "n_f3 = 10\n",
    "#f3_d, p3_d = feat_pool_dim_calc(f2_d//2, k3_d)\n",
    "f3_d, p3_d = feat_pool_dim_calc(f2_d, k3_d)\n",
    "\n",
    "k4_d = 5\n",
    "n_f4 = 10\n",
    "f4_d, p4_d = feat_pool_dim_calc(f3_d, k4_d)\n",
    "\n",
    "f1_d, f2_d, f3_d, f4_d\n",
    "\n"
   ]
  },
  {
   "cell_type": "code",
   "execution_count": 142,
   "metadata": {},
   "outputs": [],
   "source": [
    "\n",
    "from tensorflow.keras import layers, Model\n",
    "\n",
    "class Autoencoder(Model):\n",
    "   def __init__(self,units3,units4):\n",
    "       super(Autoencoder, self).__init__()\n",
    "\n",
    "       self.conv_r1 = tf.keras.layers.TimeDistributed(Conv2D(n_f1, (k1_d, k1_d), activation='relu'))\n",
    "       self.conv_i1 = tf.keras.layers.TimeDistributed(Conv2D(n_f1, (k1_d, k1_d), activation='relu'))\n",
    "       self.h1 = Hopf(f1_d, n_f1, seq_len, min_omega=0.1, max_omega=3.1)\n",
    "\n",
    "       self.conv_r2 = tf.keras.layers.TimeDistributed(Conv2D(n_f2, (k2_d, k2_d), activation='relu'))\n",
    "       self.conv_i2 = tf.keras.layers.TimeDistributed(Conv2D(n_f2, (k2_d, k2_d), activation='relu'))\n",
    "       self.h2 = Hopf(f2_d, n_f2, seq_len, min_omega=0.1, max_omega=3.1)\n",
    "       \n",
    "       #self.avg_pool = tf.keras.layers.TimeDistributed(tf.keras.layers.AveragePooling2D())\n",
    "\n",
    "       #self.conv_r3 = tf.keras.layers.TimeDistributed(Conv2D(n_f3, (k3_d, k3_d), activation='relu'))\n",
    "       #self.conv_i3 = tf.keras.layers.TimeDistributed(Conv2D(n_f3, (k3_d, k3_d), activation='relu'))\n",
    "       #self.h3 = Hopf(f3_d, n_f3, seq_len, min_omega=0.1, max_omega=3.1)\n",
    "\n",
    "       #self.conv_r4 = tf.keras.layers.TimeDistributed(Conv2D(n_f4, (k4_d, k4_d), activation='relu'))\n",
    "       #self.conv_i4 = tf.keras.layers.TimeDistributed(Conv2D(n_f4, (k4_d, k4_d), activation='relu'))\n",
    "       #self.h4 = Hopf(f4_d, n_f4, seq_len, min_omega=0.1, max_omega=3.1)\n",
    "\n",
    "\n",
    "       self.flat = tf.keras.layers.TimeDistributed(Flatten())\n",
    "\n",
    "       self.d1_r=tf.keras.layers.Dense(units3,activation='tanh')\n",
    "       self.d1_i=tf.keras.layers.Dense(units3,activation='tanh')\n",
    "\n",
    "       #self.d2_r=tf.keras.layers.Dense(units5,activation='tanh')\n",
    "       #self.d2_i=tf.keras.layers.Dense(units5,activation='tanh')\n",
    "\n",
    "\n",
    "       self.out_d=tf.keras.layers.Dense(units4,activation='linear')\n",
    "       self.drop = Dropout(0.05)\n",
    "\n",
    "\n",
    "   def call(self, inputs):\n",
    "       cor1 = self.conv_r1(inputs)\n",
    "       coi1 = self.conv_i1(inputs)\n",
    "       z1_r, z1_i = self.h1(cor1, coi1)\n",
    "       #z1_r = self.avg_pool(z1_r)\n",
    "       #z1_i = self.avg_pool(z1_i)\n",
    "\n",
    "       cor2 = self.conv_r2(z1_r)\n",
    "       coi2 = self.conv_i2(z1_i)\n",
    "       z2_r, z2_i = self.h2(cor2, coi2)\n",
    "       \n",
    "       #z2_r = self.avg_pool(z2_r)\n",
    "       #z2_i = self.avg_pool(z2_i)\n",
    "\n",
    "       #cor3 = self.conv_r3(z2_r)\n",
    "       #coi3 = self.conv_i3(z2_i)\n",
    "       #z3_r, z3_i = self.h3(cor3, coi3)\n",
    "\n",
    "       #cor4 = self.conv_r4(z3_r)\n",
    "       #coi4 = self.conv_i4(z3_i)\n",
    "       #z4_r, z4_i = self.h4(cor4, coi4)\n",
    "\n",
    "       out2_r=self.flat(z2_r)\n",
    "       out2_i=self.flat(z2_i)\n",
    "\n",
    "       out3_r = tf.keras.layers.TimeDistributed(self.d1_r)(out2_r)\n",
    "       out3_i = tf.keras.layers.TimeDistributed(self.d1_i)(out2_i)\n",
    "\n",
    "       #out4_r = tf.keras.layers.TimeDistributed(self.d2_r)(out3_r)\n",
    "       #out4_i = tf.keras.layers.TimeDistributed(self.d2_i)(out3_i)\n",
    "\n",
    "       out3=tf.concat([out3_r,out3_i],-1)\n",
    "       out4=self.drop(out3)\n",
    "\n",
    "       out_final = tf.keras.layers.TimeDistributed(self.out_d)(out4)\n",
    "\n",
    "       return out_final"
   ]
  },
  {
   "cell_type": "code",
   "execution_count": 143,
   "metadata": {},
   "outputs": [],
   "source": [
    "model = Autoencoder(10,2)\n",
    "optimizer = tf.keras.optimizers.Adam(0.001)\n",
    "model.compile(optimizer, 'mse', metrics=[ramp_accuracy] )\n",
    "\n",
    "cp_callback = tf.keras.callbacks.ModelCheckpoint('C:/Users/sinha/Desktop/sayan/epileptic_OCNN/sub5/result',\n",
    "                                                 save_best_only=True, monitor='loss', save_weights_only=True, verbose=1)"
   ]
  },
  {
   "cell_type": "code",
   "execution_count": 144,
   "metadata": {},
   "outputs": [
    {
     "name": "stdout",
     "output_type": "stream",
     "text": [
      "Epoch 1/30\n",
      "331/331 [==============================] - ETA: 0s - loss: 0.7348 - ramp_accuracy: 0.5408\n",
      "Epoch 1: loss improved from inf to 0.73485, saving model to C:/Users/sinha/Desktop/sayan/epileptic_OCNN/sub5\\result\n",
      "331/331 [==============================] - 51s 147ms/step - loss: 0.7348 - ramp_accuracy: 0.5408 - val_loss: 0.3374 - val_ramp_accuracy: 0.7952\n",
      "Epoch 2/30\n",
      "331/331 [==============================] - ETA: 0s - loss: 0.4026 - ramp_accuracy: 0.6737\n",
      "Epoch 2: loss improved from 0.73485 to 0.40256, saving model to C:/Users/sinha/Desktop/sayan/epileptic_OCNN/sub5\\result\n",
      "331/331 [==============================] - 48s 145ms/step - loss: 0.4026 - ramp_accuracy: 0.6737 - val_loss: 0.3280 - val_ramp_accuracy: 0.7952\n",
      "Epoch 3/30\n",
      "331/331 [==============================] - ETA: 0s - loss: 0.3847 - ramp_accuracy: 0.6647\n",
      "Epoch 3: loss improved from 0.40256 to 0.38472, saving model to C:/Users/sinha/Desktop/sayan/epileptic_OCNN/sub5\\result\n",
      "331/331 [==============================] - 48s 145ms/step - loss: 0.3847 - ramp_accuracy: 0.6647 - val_loss: 0.3259 - val_ramp_accuracy: 0.4940\n",
      "Epoch 4/30\n",
      "331/331 [==============================] - ETA: 0s - loss: 0.3360 - ramp_accuracy: 0.7372\n",
      "Epoch 4: loss improved from 0.38472 to 0.33601, saving model to C:/Users/sinha/Desktop/sayan/epileptic_OCNN/sub5\\result\n",
      "331/331 [==============================] - 48s 145ms/step - loss: 0.3360 - ramp_accuracy: 0.7372 - val_loss: 0.2334 - val_ramp_accuracy: 0.8313\n",
      "Epoch 5/30\n",
      "331/331 [==============================] - ETA: 0s - loss: 0.2774 - ramp_accuracy: 0.8550\n",
      "Epoch 5: loss improved from 0.33601 to 0.27741, saving model to C:/Users/sinha/Desktop/sayan/epileptic_OCNN/sub5\\result\n",
      "331/331 [==============================] - 48s 145ms/step - loss: 0.2774 - ramp_accuracy: 0.8550 - val_loss: 0.1782 - val_ramp_accuracy: 0.9036\n",
      "Epoch 6/30\n",
      "331/331 [==============================] - ETA: 0s - loss: 0.2651 - ramp_accuracy: 0.8248\n",
      "Epoch 6: loss improved from 0.27741 to 0.26513, saving model to C:/Users/sinha/Desktop/sayan/epileptic_OCNN/sub5\\result\n",
      "331/331 [==============================] - 48s 145ms/step - loss: 0.2651 - ramp_accuracy: 0.8248 - val_loss: 0.1901 - val_ramp_accuracy: 0.9157\n",
      "Epoch 7/30\n",
      "331/331 [==============================] - ETA: 0s - loss: 0.2313 - ramp_accuracy: 0.8882\n",
      "Epoch 7: loss improved from 0.26513 to 0.23129, saving model to C:/Users/sinha/Desktop/sayan/epileptic_OCNN/sub5\\result\n",
      "331/331 [==============================] - 48s 145ms/step - loss: 0.2313 - ramp_accuracy: 0.8882 - val_loss: 0.1769 - val_ramp_accuracy: 0.8916\n",
      "Epoch 8/30\n",
      "331/331 [==============================] - ETA: 0s - loss: 0.2037 - ramp_accuracy: 0.8943\n",
      "Epoch 8: loss improved from 0.23129 to 0.20374, saving model to C:/Users/sinha/Desktop/sayan/epileptic_OCNN/sub5\\result\n",
      "331/331 [==============================] - 48s 146ms/step - loss: 0.2037 - ramp_accuracy: 0.8943 - val_loss: 0.1473 - val_ramp_accuracy: 0.8916\n",
      "Epoch 9/30\n",
      "331/331 [==============================] - ETA: 0s - loss: 0.1961 - ramp_accuracy: 0.9094\n",
      "Epoch 9: loss improved from 0.20374 to 0.19607, saving model to C:/Users/sinha/Desktop/sayan/epileptic_OCNN/sub5\\result\n",
      "331/331 [==============================] - 48s 146ms/step - loss: 0.1961 - ramp_accuracy: 0.9094 - val_loss: 0.1698 - val_ramp_accuracy: 0.8795\n",
      "Epoch 10/30\n",
      "331/331 [==============================] - ETA: 0s - loss: 0.1852 - ramp_accuracy: 0.9094\n",
      "Epoch 10: loss improved from 0.19607 to 0.18523, saving model to C:/Users/sinha/Desktop/sayan/epileptic_OCNN/sub5\\result\n",
      "331/331 [==============================] - 49s 147ms/step - loss: 0.1852 - ramp_accuracy: 0.9094 - val_loss: 0.1345 - val_ramp_accuracy: 0.9036\n",
      "Epoch 11/30\n",
      "331/331 [==============================] - ETA: 0s - loss: 0.1857 - ramp_accuracy: 0.8731\n",
      "Epoch 11: loss did not improve from 0.18523\n",
      "331/331 [==============================] - 49s 147ms/step - loss: 0.1857 - ramp_accuracy: 0.8731 - val_loss: 0.2080 - val_ramp_accuracy: 0.8675\n",
      "Epoch 12/30\n",
      "331/331 [==============================] - ETA: 0s - loss: 0.1693 - ramp_accuracy: 0.9305\n",
      "Epoch 12: loss improved from 0.18523 to 0.16935, saving model to C:/Users/sinha/Desktop/sayan/epileptic_OCNN/sub5\\result\n",
      "331/331 [==============================] - 49s 147ms/step - loss: 0.1693 - ramp_accuracy: 0.9305 - val_loss: 0.1416 - val_ramp_accuracy: 0.8916\n",
      "Epoch 13/30\n",
      "331/331 [==============================] - ETA: 0s - loss: 0.1545 - ramp_accuracy: 0.9154\n",
      "Epoch 13: loss improved from 0.16935 to 0.15454, saving model to C:/Users/sinha/Desktop/sayan/epileptic_OCNN/sub5\\result\n",
      "331/331 [==============================] - 49s 148ms/step - loss: 0.1545 - ramp_accuracy: 0.9154 - val_loss: 0.1168 - val_ramp_accuracy: 0.9277\n",
      "Epoch 14/30\n",
      "331/331 [==============================] - ETA: 0s - loss: 0.1422 - ramp_accuracy: 0.9396\n",
      "Epoch 14: loss improved from 0.15454 to 0.14222, saving model to C:/Users/sinha/Desktop/sayan/epileptic_OCNN/sub5\\result\n",
      "331/331 [==============================] - 49s 148ms/step - loss: 0.1422 - ramp_accuracy: 0.9396 - val_loss: 0.1162 - val_ramp_accuracy: 0.9277\n",
      "Epoch 15/30\n",
      "331/331 [==============================] - ETA: 0s - loss: 0.1379 - ramp_accuracy: 0.9335\n",
      "Epoch 15: loss improved from 0.14222 to 0.13786, saving model to C:/Users/sinha/Desktop/sayan/epileptic_OCNN/sub5\\result\n",
      "331/331 [==============================] - 49s 148ms/step - loss: 0.1379 - ramp_accuracy: 0.9335 - val_loss: 0.1218 - val_ramp_accuracy: 0.9277\n",
      "Epoch 16/30\n",
      "331/331 [==============================] - ETA: 0s - loss: 0.1383 - ramp_accuracy: 0.9275\n",
      "Epoch 16: loss did not improve from 0.13786\n",
      "331/331 [==============================] - 50s 150ms/step - loss: 0.1383 - ramp_accuracy: 0.9275 - val_loss: 0.1520 - val_ramp_accuracy: 0.8554\n",
      "Epoch 17/30\n",
      "331/331 [==============================] - ETA: 0s - loss: 0.1381 - ramp_accuracy: 0.9366\n",
      "Epoch 17: loss did not improve from 0.13786\n",
      "331/331 [==============================] - 49s 150ms/step - loss: 0.1381 - ramp_accuracy: 0.9366 - val_loss: 0.1189 - val_ramp_accuracy: 0.9277\n",
      "Epoch 18/30\n",
      "331/331 [==============================] - ETA: 0s - loss: 0.1347 - ramp_accuracy: 0.9275\n",
      "Epoch 18: loss improved from 0.13786 to 0.13472, saving model to C:/Users/sinha/Desktop/sayan/epileptic_OCNN/sub5\\result\n",
      "331/331 [==============================] - 49s 150ms/step - loss: 0.1347 - ramp_accuracy: 0.9275 - val_loss: 0.1559 - val_ramp_accuracy: 0.8554\n",
      "Epoch 19/30\n",
      "331/331 [==============================] - ETA: 0s - loss: 0.1347 - ramp_accuracy: 0.9396\n",
      "Epoch 19: loss did not improve from 0.13472\n",
      "331/331 [==============================] - 50s 150ms/step - loss: 0.1347 - ramp_accuracy: 0.9396 - val_loss: 0.1144 - val_ramp_accuracy: 0.9036\n",
      "Epoch 20/30\n",
      "331/331 [==============================] - ETA: 0s - loss: 0.1006 - ramp_accuracy: 0.9426\n",
      "Epoch 20: loss improved from 0.13472 to 0.10058, saving model to C:/Users/sinha/Desktop/sayan/epileptic_OCNN/sub5\\result\n",
      "331/331 [==============================] - 50s 150ms/step - loss: 0.1006 - ramp_accuracy: 0.9426 - val_loss: 0.1407 - val_ramp_accuracy: 0.8675\n",
      "Epoch 21/30\n",
      "331/331 [==============================] - ETA: 0s - loss: 0.1094 - ramp_accuracy: 0.9426\n",
      "Epoch 21: loss did not improve from 0.10058\n",
      "331/331 [==============================] - 48s 146ms/step - loss: 0.1094 - ramp_accuracy: 0.9426 - val_loss: 0.0868 - val_ramp_accuracy: 0.9277\n",
      "Epoch 22/30\n",
      "331/331 [==============================] - ETA: 0s - loss: 0.1027 - ramp_accuracy: 0.9486\n",
      "Epoch 22: loss did not improve from 0.10058\n",
      "331/331 [==============================] - 47s 141ms/step - loss: 0.1027 - ramp_accuracy: 0.9486 - val_loss: 0.0787 - val_ramp_accuracy: 0.9277\n",
      "Epoch 23/30\n",
      "331/331 [==============================] - ETA: 0s - loss: 0.1055 - ramp_accuracy: 0.9486\n",
      "Epoch 23: loss did not improve from 0.10058\n",
      "331/331 [==============================] - 47s 142ms/step - loss: 0.1055 - ramp_accuracy: 0.9486 - val_loss: 0.0776 - val_ramp_accuracy: 0.9277\n",
      "Epoch 24/30\n",
      "331/331 [==============================] - ETA: 0s - loss: 0.0824 - ramp_accuracy: 0.9607\n",
      "Epoch 24: loss improved from 0.10058 to 0.08240, saving model to C:/Users/sinha/Desktop/sayan/epileptic_OCNN/sub5\\result\n",
      "331/331 [==============================] - 47s 141ms/step - loss: 0.0824 - ramp_accuracy: 0.9607 - val_loss: 0.1114 - val_ramp_accuracy: 0.9157\n",
      "Epoch 25/30\n",
      "331/331 [==============================] - ETA: 0s - loss: 0.0914 - ramp_accuracy: 0.9547\n",
      "Epoch 25: loss did not improve from 0.08240\n",
      "331/331 [==============================] - 47s 141ms/step - loss: 0.0914 - ramp_accuracy: 0.9547 - val_loss: 0.0621 - val_ramp_accuracy: 0.9759\n",
      "Epoch 26/30\n",
      "331/331 [==============================] - ETA: 0s - loss: 0.0800 - ramp_accuracy: 0.9607\n",
      "Epoch 26: loss improved from 0.08240 to 0.08003, saving model to C:/Users/sinha/Desktop/sayan/epileptic_OCNN/sub5\\result\n",
      "331/331 [==============================] - 47s 141ms/step - loss: 0.0800 - ramp_accuracy: 0.9607 - val_loss: 0.0836 - val_ramp_accuracy: 0.9277\n",
      "Epoch 27/30\n",
      "331/331 [==============================] - ETA: 0s - loss: 0.0832 - ramp_accuracy: 0.9486\n",
      "Epoch 27: loss did not improve from 0.08003\n",
      "331/331 [==============================] - 47s 141ms/step - loss: 0.0832 - ramp_accuracy: 0.9486 - val_loss: 0.0886 - val_ramp_accuracy: 0.9277\n",
      "Epoch 28/30\n",
      "331/331 [==============================] - ETA: 0s - loss: 0.0789 - ramp_accuracy: 0.9668\n",
      "Epoch 28: loss improved from 0.08003 to 0.07891, saving model to C:/Users/sinha/Desktop/sayan/epileptic_OCNN/sub5\\result\n",
      "331/331 [==============================] - 47s 141ms/step - loss: 0.0789 - ramp_accuracy: 0.9668 - val_loss: 0.0518 - val_ramp_accuracy: 0.9880\n",
      "Epoch 29/30\n",
      "331/331 [==============================] - ETA: 0s - loss: 0.0770 - ramp_accuracy: 0.9517\n",
      "Epoch 29: loss improved from 0.07891 to 0.07699, saving model to C:/Users/sinha/Desktop/sayan/epileptic_OCNN/sub5\\result\n",
      "331/331 [==============================] - 47s 141ms/step - loss: 0.0770 - ramp_accuracy: 0.9517 - val_loss: 0.1026 - val_ramp_accuracy: 0.9277\n",
      "Epoch 30/30\n",
      "331/331 [==============================] - ETA: 0s - loss: 0.0768 - ramp_accuracy: 0.9577\n",
      "Epoch 30: loss improved from 0.07699 to 0.07676, saving model to C:/Users/sinha/Desktop/sayan/epileptic_OCNN/sub5\\result\n",
      "331/331 [==============================] - 47s 141ms/step - loss: 0.0768 - ramp_accuracy: 0.9577 - val_loss: 0.0719 - val_ramp_accuracy: 0.9639\n"
     ]
    }
   ],
   "source": [
    "import time\n",
    "\n",
    "# Start the timer\n",
    "start_time = time.time()\n",
    "history=model.fit(X_train, y_train, batch_size=1, epochs=30, shuffle=True, \n",
    "                  callbacks=[cp_callback], verbose=1, validation_data=(X_test,y_test))\n",
    "# End the timer\n",
    "end_time = time.time()\n",
    "\n",
    "# Calculate the training time\n",
    "training_time = end_time - start_time"
   ]
  },
  {
   "cell_type": "code",
   "execution_count": null,
   "metadata": {},
   "outputs": [],
   "source": [
    "model.summary()"
   ]
  },
  {
   "cell_type": "code",
   "execution_count": 145,
   "metadata": {},
   "outputs": [
    {
     "data": {
      "image/png": "[encoded data removed]",
      "text/plain": [
       "<Figure size 640x480 with 2 Axes>"
      ]
     },
     "metadata": {},
     "output_type": "display_data"
    }
   ],
   "source": [
    "fig, axs = plt.subplots(1, 2)\n",
    "axs[0].plot(history.history['loss'], label=\"val loss\", linewidth=3)\n",
    "axs[1].plot(history.history['ramp_accuracy'], label=\"val accuracy\",\n",
    "            linewidth=3)\n",
    "axs[0].set_xlabel(\"epochs\")\n",
    "axs[1].set_xlabel(\"epochs\")\n",
    "axs[0].set_ylabel(\"mean squared error\")\n",
    "axs[1].set_ylabel(\"accuracy\")\n",
    "axs[0].legend()\n",
    "axs[1].legend()\n",
    "plt.tight_layout()"
   ]
  },
  {
   "cell_type": "code",
   "execution_count": 146,
   "metadata": {},
   "outputs": [
    {
     "name": "stdout",
     "output_type": "stream",
     "text": [
      "83/83 [==============================] - 1s 12ms/step\n"
     ]
    }
   ],
   "source": [
    "# Start the timer\n",
    "start_time = time.time()\n",
    "out = model.predict(X_test, batch_size=1)\n",
    "end_time = time.time()\n",
    "\n",
    "# Calculate the training time\n",
    "training_time = end_time - start_time"
   ]
  },
  {
   "cell_type": "code",
   "execution_count": 147,
   "metadata": {},
   "outputs": [
    {
     "data": {
      "text/plain": [
       "(83, 64, 2)"
      ]
     },
     "execution_count": 147,
     "metadata": {},
     "output_type": "execute_result"
    }
   ],
   "source": [
    "out.shape"
   ]
  },
  {
   "cell_type": "code",
   "execution_count": 148,
   "metadata": {},
   "outputs": [
    {
     "data": {
      "image/png": "[encoded data removed]",
      "text/plain": [
       "<Figure size 640x480 with 1 Axes>"
      ]
     },
     "metadata": {},
     "output_type": "display_data"
    }
   ],
   "source": [
    "plt.plot(out[19], label='pre')\n",
    "plt.plot(y_test[19], label ='desire')\n",
    "plt.legend()\n",
    "plt.show()"
   ]
  },
  {
   "cell_type": "code",
   "execution_count": 149,
   "metadata": {},
   "outputs": [
    {
     "name": "stdout",
     "output_type": "stream",
     "text": [
      "(array([1], dtype=int64),)\n",
      "(array([1], dtype=int64),)\n",
      "(array([0], dtype=int64),)\n",
      "(array([0], dtype=int64),)\n",
      "(array([0], dtype=int64),)\n",
      "(array([0], dtype=int64),)\n",
      "(array([0], dtype=int64),)\n",
      "(array([0], dtype=int64),)\n",
      "(array([0], dtype=int64),)\n",
      "(array([0], dtype=int64),)\n",
      "(array([1], dtype=int64),)\n",
      "(array([1], dtype=int64),)\n",
      "(array([1], dtype=int64),)\n",
      "(array([1], dtype=int64),)\n",
      "(array([1], dtype=int64),)\n",
      "(array([1], dtype=int64),)\n",
      "(array([0], dtype=int64),)\n",
      "(array([0], dtype=int64),)\n",
      "(array([1], dtype=int64),)\n",
      "(array([1], dtype=int64),)\n",
      "(array([1], dtype=int64),)\n",
      "(array([0], dtype=int64),)\n",
      "(array([1], dtype=int64),)\n",
      "(array([1], dtype=int64),)\n",
      "(array([1], dtype=int64),)\n",
      "(array([1], dtype=int64),)\n",
      "(array([1], dtype=int64),)\n",
      "(array([1], dtype=int64),)\n",
      "(array([1], dtype=int64),)\n",
      "(array([1], dtype=int64),)\n",
      "(array([1], dtype=int64),)\n",
      "(array([1], dtype=int64),)\n",
      "(array([0], dtype=int64),)\n",
      "(array([0], dtype=int64),)\n",
      "(array([0], dtype=int64),)\n",
      "(array([0], dtype=int64),)\n",
      "(array([1], dtype=int64),)\n",
      "(array([1], dtype=int64),)\n",
      "(array([0], dtype=int64),)\n",
      "(array([0], dtype=int64),)\n",
      "(array([1], dtype=int64),)\n",
      "(array([1], dtype=int64),)\n",
      "(array([1], dtype=int64),)\n",
      "(array([1], dtype=int64),)\n",
      "(array([1], dtype=int64),)\n",
      "(array([1], dtype=int64),)\n",
      "(array([1], dtype=int64),)\n",
      "(array([1], dtype=int64),)\n",
      "(array([0], dtype=int64),)\n",
      "(array([0], dtype=int64),)\n",
      "24\n"
     ]
    }
   ],
   "source": [
    "c=0\n",
    "label_trn=y_test\n",
    "\n",
    "for i in range(25):\n",
    "    a=sum(out[i,:])\n",
    "    indices = np.where(a == a.max())\n",
    "    print(indices)\n",
    "    b=sum(label_trn[i,:])\n",
    "    indices1 = np.where(b == b.max())\n",
    "    print(indices1)\n",
    "\n",
    "    if indices==indices1:\n",
    "       c=c+1\n",
    "\n",
    "print(c)"
   ]
  },
  {
   "cell_type": "code",
   "execution_count": 150,
   "metadata": {},
   "outputs": [
    {
     "ename": "AttributeError",
     "evalue": "'History' object has no attribute 'History'",
     "output_type": "error",
     "traceback": [
      "\u001b[1;31m---------------------------------------------------------------------------\u001b[0m",
      "\u001b[1;31mAttributeError\u001b[0m                            Traceback (most recent call last)",
      "\u001b[1;32m~\\AppData\\Local\\Temp\\ipykernel_11640\\2786330565.py\u001b[0m in \u001b[0;36m<module>\u001b[1;34m\u001b[0m\n\u001b[0;32m      1\u001b[0m \u001b[0mfig\u001b[0m\u001b[1;33m,\u001b[0m \u001b[0maxs\u001b[0m \u001b[1;33m=\u001b[0m \u001b[0mplt\u001b[0m\u001b[1;33m.\u001b[0m\u001b[0msubplots\u001b[0m\u001b[1;33m(\u001b[0m\u001b[1;36m1\u001b[0m\u001b[1;33m,\u001b[0m \u001b[1;36m2\u001b[0m\u001b[1;33m)\u001b[0m\u001b[1;33m\u001b[0m\u001b[1;33m\u001b[0m\u001b[0m\n\u001b[1;32m----> 2\u001b[1;33m \u001b[0maxs\u001b[0m\u001b[1;33m[\u001b[0m\u001b[1;36m0\u001b[0m\u001b[1;33m]\u001b[0m\u001b[1;33m.\u001b[0m\u001b[0mplot\u001b[0m\u001b[1;33m(\u001b[0m\u001b[0mhistory\u001b[0m\u001b[1;33m.\u001b[0m\u001b[0mHistory\u001b[0m\u001b[1;33m[\u001b[0m\u001b[1;34m'loss'\u001b[0m\u001b[1;33m]\u001b[0m\u001b[1;33m,\u001b[0m \u001b[0mlabel\u001b[0m\u001b[1;33m=\u001b[0m\u001b[1;34m\"val loss\"\u001b[0m\u001b[1;33m,\u001b[0m \u001b[0mlinewidth\u001b[0m\u001b[1;33m=\u001b[0m\u001b[1;36m3\u001b[0m\u001b[1;33m)\u001b[0m\u001b[1;33m\u001b[0m\u001b[1;33m\u001b[0m\u001b[0m\n\u001b[0m\u001b[0;32m      3\u001b[0m axs[1].plot(history.History['ramp_accuracy'], label=\"val accuracy\",\n\u001b[0;32m      4\u001b[0m             linewidth=3)\n\u001b[0;32m      5\u001b[0m \u001b[0maxs\u001b[0m\u001b[1;33m[\u001b[0m\u001b[1;36m0\u001b[0m\u001b[1;33m]\u001b[0m\u001b[1;33m.\u001b[0m\u001b[0mset_xlabel\u001b[0m\u001b[1;33m(\u001b[0m\u001b[1;34m\"epochs\"\u001b[0m\u001b[1;33m)\u001b[0m\u001b[1;33m\u001b[0m\u001b[1;33m\u001b[0m\u001b[0m\n",
      "\u001b[1;31mAttributeError\u001b[0m: 'History' object has no attribute 'History'"
     ]
    },
    {
     "data": {
      "image/png": "[encoded data removed]",
      "text/plain": [
       "<Figure size 640x480 with 2 Axes>"
      ]
     },
     "metadata": {},
     "output_type": "display_data"
    }
   ],
   "source": [
    "fig, axs = plt.subplots(1, 2)\n",
    "axs[0].plot(history.History['loss'], label=\"val loss\", linewidth=3)\n",
    "axs[1].plot(history.History['ramp_accuracy'], label=\"val accuracy\",\n",
    "            linewidth=3)\n",
    "axs[0].set_xlabel(\"epochs\")\n",
    "axs[1].set_xlabel(\"epochs\")\n",
    "axs[0].set_ylabel(\"mean squared error\")\n",
    "axs[1].set_ylabel(\"accuracy\")\n",
    "axs[0].legend()\n",
    "axs[1].legend()\n",
    "plt.tight_layout()"
   ]
  }
 ],
 "metadata": {
  "kernelspec": {
   "display_name": "base",
   "language": "python",
   "name": "python3"
  },
  "language_info": {
   "codemirror_mode": {
    "name": "ipython",
    "version": 3
   },
   "file_extension": ".py",
   "mimetype": "text/x-python",
   "name": "python",
   "nbconvert_exporter": "python",
   "pygments_lexer": "ipython3",
   "version": "3.9.13"
  }
 },
 "nbformat": 4,
 "nbformat_minor": 2
}
